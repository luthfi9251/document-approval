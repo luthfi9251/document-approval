{
 "cells": [
  {
   "cell_type": "code",
   "execution_count": 4,
   "id": "0b754a7a-482b-410e-a67d-5b3efcd3f10c",
   "metadata": {},
   "outputs": [],
   "source": [
    "import pandas as pd\n",
    "import erppeek\n",
    "from conn import *"
   ]
  },
  {
   "cell_type": "code",
   "execution_count": 6,
   "id": "9a7f9b5b-8a0c-408c-845d-131646371f79",
   "metadata": {},
   "outputs": [],
   "source": [
    "Q_GET_DEPARTMENT = \"\"\"SELECT distinct b.satker as scope_kerja\n",
    "                    FROM simpeg.tb_01 a\n",
    "                    LEFT JOIN simpeg.skpd1 b\n",
    "                    ON a.idjab= b.idskpd\n",
    "                    WHERE a.idstspeg IN ('1','2','3','7')\n",
    "                    AND a.idjenkedudupeg='01'\"\"\""
   ]
  },
  {
   "cell_type": "code",
   "execution_count": 9,
   "id": "87af3613-6dc0-4e35-909f-7cd1cdd755b5",
   "metadata": {},
   "outputs": [],
   "source": [
    "cur.execute(Q_GET_DEPARTMENT)\n",
    "department_sql = cur.fetchall()"
   ]
  },
  {
   "cell_type": "code",
   "execution_count": 10,
   "id": "1a75c2a0-53c3-4ea7-b476-91637de57ef6",
   "metadata": {},
   "outputs": [
    {
     "data": {
      "text/plain": [
       "[{'scope_kerja': 'Rektorat UDINUS'},\n",
       " {'scope_kerja': 'Pasca Sarjana'},\n",
       " {'scope_kerja': 'Biro Kerjasama dan KUI'},\n",
       " {'scope_kerja': 'Fakultas Ilmu Komputer'},\n",
       " {'scope_kerja': 'Fakultas Ekonomi dan Bisnis'},\n",
       " {'scope_kerja': 'Fakultas Ilmu Budaya'},\n",
       " {'scope_kerja': 'Fakultas Kesehatan'},\n",
       " {'scope_kerja': 'Fakultas Teknik'},\n",
       " {'scope_kerja': 'LPM (Lembaga Penjaminan Mutu)'},\n",
       " {'scope_kerja': 'Biro Kemahasiswaan'},\n",
       " {'scope_kerja': 'Biro Akademik'},\n",
       " {'scope_kerja': 'UPT Perpustakaan'},\n",
       " {'scope_kerja': 'UPT Laboratorium Komputer'},\n",
       " {'scope_kerja': 'UPT TVKU'},\n",
       " {'scope_kerja': 'LPPM'},\n",
       " {'scope_kerja': 'UPT Layanan Karir dan Alumni'},\n",
       " {'scope_kerja': 'Pusat Mutu Non-Akademik'},\n",
       " {'scope_kerja': 'Biro Umum'},\n",
       " {'scope_kerja': None},\n",
       " {'scope_kerja': 'Biro Admisi'},\n",
       " {'scope_kerja': 'UPT Kewirausahaan'},\n",
       " {'scope_kerja': 'Pusat HAKI dan Paten'},\n",
       " {'scope_kerja': 'LPPK'}]"
      ]
     },
     "execution_count": 10,
     "metadata": {},
     "output_type": "execute_result"
    }
   ],
   "source": [
    "department_sql"
   ]
  },
  {
   "cell_type": "code",
   "execution_count": 11,
   "id": "d7eeba8f-d4d8-4bb1-afd0-9009d802b66c",
   "metadata": {},
   "outputs": [
    {
     "data": {
      "text/html": [
       "<div>\n",
       "<style scoped>\n",
       "    .dataframe tbody tr th:only-of-type {\n",
       "        vertical-align: middle;\n",
       "    }\n",
       "\n",
       "    .dataframe tbody tr th {\n",
       "        vertical-align: top;\n",
       "    }\n",
       "\n",
       "    .dataframe thead th {\n",
       "        text-align: right;\n",
       "    }\n",
       "</style>\n",
       "<table border=\"1\" class=\"dataframe\">\n",
       "  <thead>\n",
       "    <tr style=\"text-align: right;\">\n",
       "      <th></th>\n",
       "      <th>scope_kerja</th>\n",
       "    </tr>\n",
       "  </thead>\n",
       "  <tbody>\n",
       "    <tr>\n",
       "      <th>0</th>\n",
       "      <td>Rektorat UDINUS</td>\n",
       "    </tr>\n",
       "    <tr>\n",
       "      <th>1</th>\n",
       "      <td>Pasca Sarjana</td>\n",
       "    </tr>\n",
       "    <tr>\n",
       "      <th>2</th>\n",
       "      <td>Biro Kerjasama dan KUI</td>\n",
       "    </tr>\n",
       "    <tr>\n",
       "      <th>3</th>\n",
       "      <td>Fakultas Ilmu Komputer</td>\n",
       "    </tr>\n",
       "    <tr>\n",
       "      <th>4</th>\n",
       "      <td>Fakultas Ekonomi dan Bisnis</td>\n",
       "    </tr>\n",
       "    <tr>\n",
       "      <th>5</th>\n",
       "      <td>Fakultas Ilmu Budaya</td>\n",
       "    </tr>\n",
       "    <tr>\n",
       "      <th>6</th>\n",
       "      <td>Fakultas Kesehatan</td>\n",
       "    </tr>\n",
       "    <tr>\n",
       "      <th>7</th>\n",
       "      <td>Fakultas Teknik</td>\n",
       "    </tr>\n",
       "    <tr>\n",
       "      <th>8</th>\n",
       "      <td>LPM (Lembaga Penjaminan Mutu)</td>\n",
       "    </tr>\n",
       "    <tr>\n",
       "      <th>9</th>\n",
       "      <td>Biro Kemahasiswaan</td>\n",
       "    </tr>\n",
       "    <tr>\n",
       "      <th>10</th>\n",
       "      <td>Biro Akademik</td>\n",
       "    </tr>\n",
       "    <tr>\n",
       "      <th>11</th>\n",
       "      <td>UPT Perpustakaan</td>\n",
       "    </tr>\n",
       "    <tr>\n",
       "      <th>12</th>\n",
       "      <td>UPT Laboratorium Komputer</td>\n",
       "    </tr>\n",
       "    <tr>\n",
       "      <th>13</th>\n",
       "      <td>UPT TVKU</td>\n",
       "    </tr>\n",
       "    <tr>\n",
       "      <th>14</th>\n",
       "      <td>LPPM</td>\n",
       "    </tr>\n",
       "    <tr>\n",
       "      <th>15</th>\n",
       "      <td>UPT Layanan Karir dan Alumni</td>\n",
       "    </tr>\n",
       "    <tr>\n",
       "      <th>16</th>\n",
       "      <td>Pusat Mutu Non-Akademik</td>\n",
       "    </tr>\n",
       "    <tr>\n",
       "      <th>17</th>\n",
       "      <td>Biro Umum</td>\n",
       "    </tr>\n",
       "    <tr>\n",
       "      <th>18</th>\n",
       "      <td>None</td>\n",
       "    </tr>\n",
       "    <tr>\n",
       "      <th>19</th>\n",
       "      <td>Biro Admisi</td>\n",
       "    </tr>\n",
       "    <tr>\n",
       "      <th>20</th>\n",
       "      <td>UPT Kewirausahaan</td>\n",
       "    </tr>\n",
       "    <tr>\n",
       "      <th>21</th>\n",
       "      <td>Pusat HAKI dan Paten</td>\n",
       "    </tr>\n",
       "    <tr>\n",
       "      <th>22</th>\n",
       "      <td>LPPK</td>\n",
       "    </tr>\n",
       "  </tbody>\n",
       "</table>\n",
       "</div>"
      ],
      "text/plain": [
       "                      scope_kerja\n",
       "0                 Rektorat UDINUS\n",
       "1                   Pasca Sarjana\n",
       "2          Biro Kerjasama dan KUI\n",
       "3          Fakultas Ilmu Komputer\n",
       "4     Fakultas Ekonomi dan Bisnis\n",
       "5            Fakultas Ilmu Budaya\n",
       "6              Fakultas Kesehatan\n",
       "7                 Fakultas Teknik\n",
       "8   LPM (Lembaga Penjaminan Mutu)\n",
       "9              Biro Kemahasiswaan\n",
       "10                  Biro Akademik\n",
       "11               UPT Perpustakaan\n",
       "12      UPT Laboratorium Komputer\n",
       "13                       UPT TVKU\n",
       "14                           LPPM\n",
       "15   UPT Layanan Karir dan Alumni\n",
       "16        Pusat Mutu Non-Akademik\n",
       "17                      Biro Umum\n",
       "18                           None\n",
       "19                    Biro Admisi\n",
       "20              UPT Kewirausahaan\n",
       "21           Pusat HAKI dan Paten\n",
       "22                           LPPK"
      ]
     },
     "execution_count": 11,
     "metadata": {},
     "output_type": "execute_result"
    }
   ],
   "source": [
    "df_department = pd.DataFrame(department_sql)\n",
    "df_department"
   ]
  },
  {
   "cell_type": "markdown",
   "id": "0ffee2bb-0372-404e-bad5-a52cdb9713ce",
   "metadata": {},
   "source": [
    "### MENDAPATKAN DATA PEGAWAI"
   ]
  },
  {
   "cell_type": "code",
   "execution_count": 12,
   "id": "517cc1db-b90e-49f2-9385-b426e63abcb6",
   "metadata": {},
   "outputs": [],
   "source": [
    "Q_GET_PEGAWAI = \"\"\"SELECT a.staf_id, a.nip, a.gdp, a.nama, a.gdb, \n",
    "                a.idskpd, b.satker as scope_kerja,a.idjab, b.jab as struktural\n",
    "                FROM simpeg.tb_01 a\n",
    "                LEFT JOIN simpeg.skpd1 b\n",
    "                ON a.idjab= b.idskpd\n",
    "                WHERE a.idstspeg IN ('1','2','3','7')\n",
    "                AND a.idjenkedudupeg='01'\"\"\""
   ]
  },
  {
   "cell_type": "code",
   "execution_count": 14,
   "id": "874393b8-d4f7-48af-af51-b8db1ce2fa4d",
   "metadata": {},
   "outputs": [],
   "source": [
    "cur.execute(Q_GET_PEGAWAI)\n",
    "pegawai_sql = cur.fetchall()\n"
   ]
  },
  {
   "cell_type": "code",
   "execution_count": 15,
   "id": "3814e24b-4917-441e-89e1-e1a3755fd4df",
   "metadata": {},
   "outputs": [
    {
     "data": {
      "text/html": [
       "<div>\n",
       "<style scoped>\n",
       "    .dataframe tbody tr th:only-of-type {\n",
       "        vertical-align: middle;\n",
       "    }\n",
       "\n",
       "    .dataframe tbody tr th {\n",
       "        vertical-align: top;\n",
       "    }\n",
       "\n",
       "    .dataframe thead th {\n",
       "        text-align: right;\n",
       "    }\n",
       "</style>\n",
       "<table border=\"1\" class=\"dataframe\">\n",
       "  <thead>\n",
       "    <tr style=\"text-align: right;\">\n",
       "      <th></th>\n",
       "      <th>staf_id</th>\n",
       "      <th>nip</th>\n",
       "      <th>gdp</th>\n",
       "      <th>nama</th>\n",
       "      <th>gdb</th>\n",
       "      <th>idskpd</th>\n",
       "      <th>scope_kerja</th>\n",
       "      <th>idjab</th>\n",
       "      <th>struktural</th>\n",
       "    </tr>\n",
       "  </thead>\n",
       "  <tbody>\n",
       "    <tr>\n",
       "      <th>0</th>\n",
       "      <td>1</td>\n",
       "      <td>0686.11.1990.001</td>\n",
       "      <td>Prof. Dr. Ir</td>\n",
       "      <td>EDI NOERSASONGKO</td>\n",
       "      <td>M.Kom</td>\n",
       "      <td>10101</td>\n",
       "      <td>Rektorat UDINUS</td>\n",
       "      <td>10101</td>\n",
       "      <td>Rektor</td>\n",
       "    </tr>\n",
       "    <tr>\n",
       "      <th>1</th>\n",
       "      <td>1598</td>\n",
       "      <td>0686.11.2015.609</td>\n",
       "      <td>Prof. Dr.</td>\n",
       "      <td>SUPRIADI RUSTAD</td>\n",
       "      <td>M.Si</td>\n",
       "      <td>10101</td>\n",
       "      <td>Rektorat UDINUS</td>\n",
       "      <td>1010101</td>\n",
       "      <td>Wakil Rektor I</td>\n",
       "    </tr>\n",
       "    <tr>\n",
       "      <th>2</th>\n",
       "      <td>2</td>\n",
       "      <td>0686.11.1990.002</td>\n",
       "      <td>Dr</td>\n",
       "      <td>ST. DWIARSO UTOMO</td>\n",
       "      <td>SE,M.Kom,Akt,CA</td>\n",
       "      <td>10101</td>\n",
       "      <td>Rektorat UDINUS</td>\n",
       "      <td>1010102</td>\n",
       "      <td>Wakil Rektor II</td>\n",
       "    </tr>\n",
       "    <tr>\n",
       "      <th>3</th>\n",
       "      <td>13</td>\n",
       "      <td>0686.11.1992.029</td>\n",
       "      <td>Dr</td>\n",
       "      <td>KUSNI INGSIH</td>\n",
       "      <td>MM</td>\n",
       "      <td>10101</td>\n",
       "      <td>Rektorat UDINUS</td>\n",
       "      <td>1010103</td>\n",
       "      <td>Wakil Rektor III</td>\n",
       "    </tr>\n",
       "    <tr>\n",
       "      <th>4</th>\n",
       "      <td>288</td>\n",
       "      <td>0686.20.2007.337</td>\n",
       "      <td>Dr</td>\n",
       "      <td>SUPRAPEDI</td>\n",
       "      <td>M.Eng.</td>\n",
       "      <td>10201</td>\n",
       "      <td>Pasca Sarjana</td>\n",
       "      <td>10201</td>\n",
       "      <td>Direktur Pasca Sarjana</td>\n",
       "    </tr>\n",
       "  </tbody>\n",
       "</table>\n",
       "</div>"
      ],
      "text/plain": [
       "   staf_id               nip           gdp               nama  \\\n",
       "0        1  0686.11.1990.001  Prof. Dr. Ir   EDI NOERSASONGKO   \n",
       "1     1598  0686.11.2015.609     Prof. Dr.    SUPRIADI RUSTAD   \n",
       "2        2  0686.11.1990.002            Dr  ST. DWIARSO UTOMO   \n",
       "3       13  0686.11.1992.029            Dr       KUSNI INGSIH   \n",
       "4      288  0686.20.2007.337            Dr          SUPRAPEDI   \n",
       "\n",
       "               gdb idskpd      scope_kerja    idjab              struktural  \n",
       "0            M.Kom  10101  Rektorat UDINUS    10101                  Rektor  \n",
       "1             M.Si  10101  Rektorat UDINUS  1010101          Wakil Rektor I  \n",
       "2  SE,M.Kom,Akt,CA  10101  Rektorat UDINUS  1010102         Wakil Rektor II  \n",
       "3               MM  10101  Rektorat UDINUS  1010103        Wakil Rektor III  \n",
       "4           M.Eng.  10201    Pasca Sarjana    10201  Direktur Pasca Sarjana  "
      ]
     },
     "execution_count": 15,
     "metadata": {},
     "output_type": "execute_result"
    }
   ],
   "source": [
    "df_pegawai = pd.DataFrame(pegawai_sql)\n",
    "df_pegawai.head()"
   ]
  },
  {
   "cell_type": "markdown",
   "id": "c1de882c-d57a-4feb-8f5b-41e4bbe2f421",
   "metadata": {},
   "source": [
    "### INJECT ke DB"
   ]
  },
  {
   "cell_type": "code",
   "execution_count": 16,
   "id": "c0742ab7-0438-4bd8-99d7-670fdcbd4d0e",
   "metadata": {},
   "outputs": [
    {
     "data": {
      "text/plain": [
       "<Client 'http://localhost:8069/xmlrpc#doc-approval'>"
      ]
     },
     "execution_count": 16,
     "metadata": {},
     "output_type": "execute_result"
    }
   ],
   "source": [
    "USERNAME = \"luthfi.irfan11@gmail.com\"\n",
    "PASSWORD = \"12345678\"\n",
    "DB = \"doc-approval\"\n",
    "SERVER = \"http://localhost:8069\"\n",
    "\n",
    "client = erppeek.Client(SERVER, db=DB, user=USERNAME, password=PASSWORD)\n",
    "client"
   ]
  },
  {
   "cell_type": "code",
   "execution_count": null,
   "id": "ed89b73a-4d63-44ac-85c3-b53c50172ebd",
   "metadata": {},
   "outputs": [],
   "source": [
    "# tipe_unit_list = [('0', 'Universitas'), ('1','Fakultas'),('2','Jurusan'), ('3','Prodi'),('4','Laboratorium'),('5','UPT'),('6','Penyelenggara MKU'),('7', 'Ormawa')]\n",
    "\n",
    "for i, depart in df_department.iterrows():\n",
    "    if(client.search('docav.department', [(\"name\", \"=\", depart[\"scope_kerja\"])])):\n",
    "        continue\n",
    "    print(depart[\"scope_kerja\"])\n",
    "    values = {\n",
    "        'tipe_unit': '1',\n",
    "        'name': depart[\"scope_kerja\"]\n",
    "    }\n",
    "    client.create(\"docav.department\", values)"
   ]
  }
 ],
 "metadata": {
  "kernelspec": {
   "display_name": "Python 3 (ipykernel)",
   "language": "python",
   "name": "python3"
  },
  "language_info": {
   "codemirror_mode": {
    "name": "ipython",
    "version": 3
   },
   "file_extension": ".py",
   "mimetype": "text/x-python",
   "name": "python",
   "nbconvert_exporter": "python",
   "pygments_lexer": "ipython3",
   "version": "3.11.5"
  }
 },
 "nbformat": 4,
 "nbformat_minor": 5
}
